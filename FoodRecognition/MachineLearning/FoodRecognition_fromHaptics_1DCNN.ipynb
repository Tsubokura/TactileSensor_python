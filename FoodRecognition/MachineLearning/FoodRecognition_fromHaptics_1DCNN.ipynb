{
 "cells": [
  {
   "cell_type": "code",
   "execution_count": null,
   "metadata": {
    "colab": {
     "base_uri": "https://localhost:8080/"
    },
    "id": "kRi_AKqMV3t_",
    "outputId": "3be5e6d3-10ef-4812-cddc-9c492f108554"
   },
   "outputs": [],
   "source": [
    "ls"
   ]
  },
  {
   "cell_type": "code",
   "execution_count": null,
   "metadata": {
    "colab": {
     "base_uri": "https://localhost:8080/"
    },
    "id": "sTGxR1UyV_EF",
    "outputId": "2d23c5a6-1773-4dce-e0d2-d679e16590e7"
   },
   "outputs": [],
   "source": [
    "!pip install keras\n"
   ]
  },
  {
   "cell_type": "code",
   "execution_count": null,
   "metadata": {
    "colab": {
     "base_uri": "https://localhost:8080/"
    },
    "id": "oFnpZSChEt56",
    "outputId": "94ec3e73-94d4-4dbe-ada4-0a85abb203c0"
   },
   "outputs": [],
   "source": []
  },
  {
   "cell_type": "code",
   "execution_count": null,
   "metadata": {
    "colab": {
     "base_uri": "https://localhost:8080/",
     "height": 425
    },
    "id": "plDfMXecWATI",
    "outputId": "9cf2ea63-45d4-4965-fd32-c8c279adaaab"
   },
   "outputs": [],
   "source": []
  },
  {
   "cell_type": "code",
   "execution_count": 13,
   "metadata": {
    "id": "loAJjqGja9ve"
   },
   "outputs": [
    {
     "name": "stdout",
     "output_type": "stream",
     "text": [
      "(52971, 4423, 2)\n",
      "(4423, 2)\n",
      "<class 'numpy.ndarray'>\n"
     ]
    }
   ],
   "source": [
    "# coding:utf-8\n",
    "import numpy as np\n",
    "import pandas as pd\n",
    "from sklearn.model_selection import train_test_split\n",
    "import matplotlib.pyplot as plt\n",
    "import re\n",
    "import os\n",
    "from PIL import Image\n",
    "import glob\n",
    "import tensorflow as tf\n",
    "\n",
    "from tensorflow.keras.models import Sequential\n",
    "from tensorflow.keras.layers import Dense, Conv2D, Flatten, Dropout, MaxPooling2D, LSTM\n",
    "from tensorflow.keras.preprocessing.image import ImageDataGenerator\n",
    "\n",
    "csvdata_dir = \"/home/stsubokura/FoodRecognition/data/\"\n",
    "\n",
    "folder = [\"cucumberinside_csv\",\"cucumberoutside_csv\",\"eggplant_csv\",\"gumi_csv\", \"kamaboko_csv\", \"konnyaku_csv\", \"marshmallow_csv\"]\n",
    "\n",
    "max_dataarraysize = 4423 \n",
    "\n",
    "csvs = []\n",
    "label = []\n",
    "buffer = 10\n",
    "\n",
    "for index, name in enumerate(folder):\n",
    "    dir = csvdata_dir + name\n",
    "    files = glob.glob(dir + \"/*.csv\")\n",
    "    for i, file in enumerate(files):\n",
    "        csv = pd.read_csv(file, sep = '\\t', encoding = \"shift-jis\", error_bad_lines = False, header = None,skiprows=[0])\n",
    "        \n",
    "        data_delbefore = np.array(csv, dtype = np.float32).T\n",
    "        data_deleted = np.delete(data_delbefore, 0, axis = 0) #delete meaningless law\n",
    "        data_array = data_deleted - data_deleted.mean(axis=0)\n",
    "\n",
    "        data_array_zero = np.zeros((max_dataarraysize, 2))\n",
    "        \n",
    "        for i in range(0, int(max_dataarraysize - data_array.shape[1]), buffer):\n",
    "            data_array_zero = np.zeros((max_dataarraysize, 2))\n",
    "            data_array_zero[:data_array.shape[1], :] = data_array.T\n",
    "            csvs.append(data_array_zero)\n",
    "            label.append(index)\n",
    "\n",
    "csvs = np.asarray(csvs)\n",
    "\n",
    "csvs = csvs.astype('float32')\n",
    "#dataarrays = dataarrays\n",
    "\n",
    "label = np.asarray(label)\n",
    "label =  tf.keras.utils.to_categorical(label, 7)\n",
    "\n",
    "csvs_train, csvs_test, label_train, label_test = train_test_split(csvs, label, test_size=0.1, random_state=111)\n",
    "\n",
    "print(csvs_train.shape)\n",
    "print(csvs_train.shape[1:])\n",
    "print(type(csvs))\n"
   ]
  },
  {
   "cell_type": "code",
   "execution_count": null,
   "metadata": {
    "colab": {
     "base_uri": "https://localhost:8080/"
    },
    "id": "9pz5pwyDjHwL",
    "outputId": "d8e106ca-37c3-47f4-cef5-e902b758d3ec"
   },
   "outputs": [],
   "source": []
  },
  {
   "cell_type": "code",
   "execution_count": 10,
   "metadata": {
    "colab": {
     "base_uri": "https://localhost:8080/"
    },
    "id": "QpaRXIY75yat",
    "outputId": "8d781b45-7dde-4251-8b3d-27ccf2e3ba37"
   },
   "outputs": [
    {
     "name": "stdout",
     "output_type": "stream",
     "text": [
      "(10664, 2, 4423)\n",
      "(10664, 2, 4423)\n"
     ]
    }
   ],
   "source": []
  },
  {
   "cell_type": "code",
   "execution_count": 14,
   "metadata": {
    "colab": {
     "base_uri": "https://localhost:8080/"
    },
    "id": "NMB6AQAYcE7J",
    "outputId": "c4d32058-12de-4c3e-e5c4-30c97b84a565"
   },
   "outputs": [
    {
     "name": "stdout",
     "output_type": "stream",
     "text": [
      "INFO:tensorflow:Using MirroredStrategy with devices ('/job:localhost/replica:0/task:0/device:GPU:0', '/job:localhost/replica:0/task:0/device:GPU:1', '/job:localhost/replica:0/task:0/device:GPU:2', '/job:localhost/replica:0/task:0/device:GPU:3')\n",
      "Model: \"sequential_3\"\n",
      "_________________________________________________________________\n",
      "Layer (type)                 Output Shape              Param #   \n",
      "=================================================================\n",
      "conv1d_9 (Conv1D)            (None, 1473, 32)          480       \n",
      "_________________________________________________________________\n",
      "max_pooling1d_4 (MaxPooling1 (None, 491, 32)           0         \n",
      "_________________________________________________________________\n",
      "conv1d_10 (Conv1D)           (None, 163, 32)           5152      \n",
      "_________________________________________________________________\n",
      "max_pooling1d_5 (MaxPooling1 (None, 54, 32)            0         \n",
      "_________________________________________________________________\n",
      "conv1d_11 (Conv1D)           (None, 17, 32)            5152      \n",
      "_________________________________________________________________\n",
      "conv1d_12 (Conv1D)           (None, 5, 32)             5152      \n",
      "_________________________________________________________________\n",
      "flatten_2 (Flatten)          (None, 160)               0         \n",
      "_________________________________________________________________\n",
      "batch_normalization_2 (Batch (None, 160)               640       \n",
      "_________________________________________________________________\n",
      "dense_2 (Dense)              (None, 7)                 1127      \n",
      "=================================================================\n",
      "Total params: 17,703\n",
      "Trainable params: 17,383\n",
      "Non-trainable params: 320\n",
      "_________________________________________________________________\n",
      "Epoch 1/100\n",
      "INFO:tensorflow:batch_all_reduce: 12 all-reduces with algorithm = nccl, num_packs = 1\n",
      "INFO:tensorflow:batch_all_reduce: 12 all-reduces with algorithm = nccl, num_packs = 1\n",
      "207/207 [==============================] - 5s 25ms/step - accuracy: 0.6648 - loss: 0.2982 - val_accuracy: 0.6814 - val_loss: 0.3512\n",
      "Epoch 2/100\n",
      "207/207 [==============================] - 3s 16ms/step - accuracy: 0.9651 - loss: 0.1056 - val_accuracy: 0.9754 - val_loss: 0.1419\n",
      "Epoch 3/100\n",
      "207/207 [==============================] - 3s 16ms/step - accuracy: 0.9870 - loss: 0.0711 - val_accuracy: 0.9898 - val_loss: 0.0687\n",
      "Epoch 4/100\n",
      "207/207 [==============================] - 3s 16ms/step - accuracy: 0.9939 - loss: 0.0557 - val_accuracy: 0.9939 - val_loss: 0.0473\n",
      "Epoch 5/100\n",
      "207/207 [==============================] - 3s 16ms/step - accuracy: 0.9972 - loss: 0.0459 - val_accuracy: 0.9939 - val_loss: 0.0406\n",
      "Epoch 6/100\n",
      "207/207 [==============================] - 3s 16ms/step - accuracy: 0.9987 - loss: 0.0385 - val_accuracy: 1.0000 - val_loss: 0.0324\n",
      "Epoch 7/100\n",
      "207/207 [==============================] - 3s 16ms/step - accuracy: 0.9988 - loss: 0.0340 - val_accuracy: 0.9947 - val_loss: 0.0341\n",
      "Epoch 8/100\n",
      "207/207 [==============================] - 3s 17ms/step - accuracy: 0.9995 - loss: 0.0295 - val_accuracy: 0.9939 - val_loss: 0.0267\n",
      "Epoch 9/100\n",
      "207/207 [==============================] - 4s 17ms/step - accuracy: 0.9995 - loss: 0.0269 - val_accuracy: 0.9947 - val_loss: 0.0256\n",
      "Epoch 10/100\n",
      "207/207 [==============================] - 4s 17ms/step - accuracy: 0.9993 - loss: 0.0249 - val_accuracy: 1.0000 - val_loss: 0.0215\n",
      "Epoch 11/100\n",
      "207/207 [==============================] - 4s 17ms/step - accuracy: 1.0000 - loss: 0.0216 - val_accuracy: 1.0000 - val_loss: 0.0195\n",
      "Epoch 12/100\n",
      "207/207 [==============================] - 4s 17ms/step - accuracy: 0.9998 - loss: 0.0207 - val_accuracy: 1.0000 - val_loss: 0.0180\n",
      "Epoch 13/100\n",
      "207/207 [==============================] - 4s 17ms/step - accuracy: 0.9999 - loss: 0.0189 - val_accuracy: 1.0000 - val_loss: 0.0174\n",
      "Epoch 14/100\n",
      "207/207 [==============================] - 4s 17ms/step - accuracy: 0.9999 - loss: 0.0179 - val_accuracy: 1.0000 - val_loss: 0.0163\n",
      "Epoch 15/100\n",
      "207/207 [==============================] - 3s 17ms/step - accuracy: 1.0000 - loss: 0.0168 - val_accuracy: 1.0000 - val_loss: 0.0151\n",
      "Epoch 16/100\n",
      "207/207 [==============================] - 3s 17ms/step - accuracy: 1.0000 - loss: 0.0158 - val_accuracy: 1.0000 - val_loss: 0.0140\n",
      "Epoch 17/100\n",
      "207/207 [==============================] - 4s 17ms/step - accuracy: 1.0000 - loss: 0.0152 - val_accuracy: 1.0000 - val_loss: 0.0133\n",
      "Epoch 18/100\n",
      "207/207 [==============================] - 4s 17ms/step - accuracy: 1.0000 - loss: 0.0145 - val_accuracy: 1.0000 - val_loss: 0.0128\n",
      "Epoch 19/100\n",
      "207/207 [==============================] - 4s 17ms/step - accuracy: 0.9999 - loss: 0.0144 - val_accuracy: 1.0000 - val_loss: 0.0123\n",
      "Epoch 20/100\n",
      "207/207 [==============================] - 4s 18ms/step - accuracy: 1.0000 - loss: 0.0134 - val_accuracy: 1.0000 - val_loss: 0.0117\n",
      "Epoch 21/100\n",
      "207/207 [==============================] - 4s 17ms/step - accuracy: 1.0000 - loss: 0.0128 - val_accuracy: 1.0000 - val_loss: 0.0113\n",
      "Epoch 22/100\n",
      "207/207 [==============================] - 4s 17ms/step - accuracy: 1.0000 - loss: 0.0125 - val_accuracy: 1.0000 - val_loss: 0.0112\n",
      "Epoch 23/100\n",
      "207/207 [==============================] - 4s 17ms/step - accuracy: 1.0000 - loss: 0.0122 - val_accuracy: 1.0000 - val_loss: 0.0109\n",
      "Epoch 24/100\n",
      "207/207 [==============================] - 4s 17ms/step - accuracy: 1.0000 - loss: 0.0118 - val_accuracy: 1.0000 - val_loss: 0.0103\n",
      "Epoch 25/100\n",
      "207/207 [==============================] - 4s 17ms/step - accuracy: 0.9999 - loss: 0.0117 - val_accuracy: 1.0000 - val_loss: 0.0100\n",
      "Epoch 26/100\n",
      "207/207 [==============================] - 4s 17ms/step - accuracy: 0.9999 - loss: 0.0114 - val_accuracy: 1.0000 - val_loss: 0.0104\n",
      "Epoch 27/100\n",
      "207/207 [==============================] - 4s 18ms/step - accuracy: 1.0000 - loss: 0.0104 - val_accuracy: 1.0000 - val_loss: 0.0092\n",
      "Epoch 28/100\n",
      "207/207 [==============================] - 3s 17ms/step - accuracy: 1.0000 - loss: 0.0101 - val_accuracy: 1.0000 - val_loss: 0.0090\n",
      "Epoch 29/100\n",
      "207/207 [==============================] - 3s 17ms/step - accuracy: 0.9990 - loss: 0.0114 - val_accuracy: 0.8872 - val_loss: 0.0985\n",
      "Epoch 30/100\n",
      "207/207 [==============================] - 3s 17ms/step - accuracy: 0.9995 - loss: 0.0125 - val_accuracy: 1.0000 - val_loss: 0.0109\n",
      "Epoch 31/100\n",
      "207/207 [==============================] - 3s 17ms/step - accuracy: 1.0000 - loss: 0.0096 - val_accuracy: 1.0000 - val_loss: 0.0087\n",
      "Epoch 32/100\n",
      "207/207 [==============================] - 3s 17ms/step - accuracy: 1.0000 - loss: 0.0092 - val_accuracy: 1.0000 - val_loss: 0.0082\n",
      "Epoch 33/100\n",
      "207/207 [==============================] - 4s 17ms/step - accuracy: 1.0000 - loss: 0.0089 - val_accuracy: 1.0000 - val_loss: 0.0082\n",
      "Epoch 34/100\n",
      "207/207 [==============================] - 4s 18ms/step - accuracy: 0.9999 - loss: 0.0089 - val_accuracy: 1.0000 - val_loss: 0.0078\n",
      "Epoch 35/100\n",
      "207/207 [==============================] - 3s 16ms/step - accuracy: 1.0000 - loss: 0.0086 - val_accuracy: 1.0000 - val_loss: 0.0089\n",
      "Epoch 36/100\n",
      "207/207 [==============================] - 3s 16ms/step - accuracy: 1.0000 - loss: 0.0083 - val_accuracy: 1.0000 - val_loss: 0.0073\n",
      "Epoch 37/100\n",
      "207/207 [==============================] - 3s 16ms/step - accuracy: 1.0000 - loss: 0.0081 - val_accuracy: 1.0000 - val_loss: 0.0072\n",
      "Epoch 38/100\n",
      "207/207 [==============================] - 3s 16ms/step - accuracy: 1.0000 - loss: 0.0080 - val_accuracy: 0.9913 - val_loss: 0.0180\n",
      "Epoch 39/100\n",
      "207/207 [==============================] - 3s 16ms/step - accuracy: 1.0000 - loss: 0.0080 - val_accuracy: 1.0000 - val_loss: 0.0070\n",
      "Epoch 40/100\n",
      "207/207 [==============================] - 3s 16ms/step - accuracy: 0.9992 - loss: 0.0093 - val_accuracy: 0.9952 - val_loss: 0.0139\n",
      "Epoch 41/100\n",
      "207/207 [==============================] - 3s 16ms/step - accuracy: 1.0000 - loss: 0.0084 - val_accuracy: 1.0000 - val_loss: 0.0077\n",
      "Epoch 42/100\n",
      "207/207 [==============================] - 3s 17ms/step - accuracy: 1.0000 - loss: 0.0075 - val_accuracy: 1.0000 - val_loss: 0.0068\n",
      "Epoch 43/100\n",
      "207/207 [==============================] - 4s 17ms/step - accuracy: 1.0000 - loss: 0.0073 - val_accuracy: 1.0000 - val_loss: 0.0067\n",
      "Epoch 44/100\n"
     ]
    },
    {
     "name": "stdout",
     "output_type": "stream",
     "text": [
      "207/207 [==============================] - 4s 17ms/step - accuracy: 1.0000 - loss: 0.0071 - val_accuracy: 1.0000 - val_loss: 0.0064\n",
      "Epoch 45/100\n",
      "207/207 [==============================] - 4s 17ms/step - accuracy: 1.0000 - loss: 0.0069 - val_accuracy: 1.0000 - val_loss: 0.0061\n",
      "Epoch 46/100\n",
      "207/207 [==============================] - 4s 17ms/step - accuracy: 1.0000 - loss: 0.0067 - val_accuracy: 1.0000 - val_loss: 0.0060\n",
      "Epoch 47/100\n",
      "207/207 [==============================] - 4s 17ms/step - accuracy: 1.0000 - loss: 0.0067 - val_accuracy: 0.9823 - val_loss: 0.0174\n",
      "Epoch 48/100\n",
      "207/207 [==============================] - 4s 17ms/step - accuracy: 1.0000 - loss: 0.0068 - val_accuracy: 1.0000 - val_loss: 0.0059\n",
      "Epoch 49/100\n",
      "207/207 [==============================] - 4s 17ms/step - accuracy: 1.0000 - loss: 0.0065 - val_accuracy: 1.0000 - val_loss: 0.0058\n",
      "Epoch 50/100\n",
      "207/207 [==============================] - 4s 17ms/step - accuracy: 1.0000 - loss: 0.0063 - val_accuracy: 1.0000 - val_loss: 0.0058\n",
      "Epoch 51/100\n",
      "207/207 [==============================] - 3s 17ms/step - accuracy: 1.0000 - loss: 0.0061 - val_accuracy: 1.0000 - val_loss: 0.0055\n",
      "Epoch 52/100\n",
      "207/207 [==============================] - 4s 18ms/step - accuracy: 0.9992 - loss: 0.0082 - val_accuracy: 0.9980 - val_loss: 0.0107\n",
      "Epoch 53/100\n",
      "207/207 [==============================] - 4s 17ms/step - accuracy: 1.0000 - loss: 0.0064 - val_accuracy: 1.0000 - val_loss: 0.0056\n",
      "Epoch 54/100\n",
      "207/207 [==============================] - 3s 17ms/step - accuracy: 1.0000 - loss: 0.0059 - val_accuracy: 1.0000 - val_loss: 0.0056\n",
      "Epoch 55/100\n",
      "207/207 [==============================] - 4s 17ms/step - accuracy: 1.0000 - loss: 0.0058 - val_accuracy: 1.0000 - val_loss: 0.0053\n",
      "Epoch 56/100\n",
      "207/207 [==============================] - 4s 17ms/step - accuracy: 0.9999 - loss: 0.0062 - val_accuracy: 1.0000 - val_loss: 0.0055\n",
      "Epoch 57/100\n",
      "207/207 [==============================] - 3s 17ms/step - accuracy: 1.0000 - loss: 0.0055 - val_accuracy: 1.0000 - val_loss: 0.0050\n",
      "Epoch 58/100\n",
      "207/207 [==============================] - 3s 17ms/step - accuracy: 0.9995 - loss: 0.0069 - val_accuracy: 1.0000 - val_loss: 0.0086\n",
      "Epoch 59/100\n",
      "207/207 [==============================] - 4s 17ms/step - accuracy: 1.0000 - loss: 0.0059 - val_accuracy: 1.0000 - val_loss: 0.0052\n",
      "Epoch 60/100\n",
      "207/207 [==============================] - 4s 17ms/step - accuracy: 1.0000 - loss: 0.0053 - val_accuracy: 1.0000 - val_loss: 0.0048\n",
      "Epoch 61/100\n",
      "207/207 [==============================] - 3s 17ms/step - accuracy: 1.0000 - loss: 0.0053 - val_accuracy: 1.0000 - val_loss: 0.0048\n",
      "Epoch 62/100\n",
      "207/207 [==============================] - 3s 17ms/step - accuracy: 1.0000 - loss: 0.0051 - val_accuracy: 1.0000 - val_loss: 0.0046\n",
      "Epoch 63/100\n",
      "207/207 [==============================] - 3s 17ms/step - accuracy: 1.0000 - loss: 0.0052 - val_accuracy: 1.0000 - val_loss: 0.0081\n",
      "Epoch 64/100\n",
      "207/207 [==============================] - 4s 17ms/step - accuracy: 0.9999 - loss: 0.0054 - val_accuracy: 1.0000 - val_loss: 0.0045\n",
      "Epoch 65/100\n",
      "207/207 [==============================] - 4s 17ms/step - accuracy: 1.0000 - loss: 0.0050 - val_accuracy: 1.0000 - val_loss: 0.0044\n",
      "Epoch 66/100\n",
      "207/207 [==============================] - 3s 17ms/step - accuracy: 1.0000 - loss: 0.0048 - val_accuracy: 1.0000 - val_loss: 0.0044\n",
      "Epoch 67/100\n",
      "207/207 [==============================] - 4s 17ms/step - accuracy: 1.0000 - loss: 0.0048 - val_accuracy: 1.0000 - val_loss: 0.0043\n",
      "Epoch 68/100\n",
      "207/207 [==============================] - 4s 17ms/step - accuracy: 1.0000 - loss: 0.0047 - val_accuracy: 1.0000 - val_loss: 0.0042\n",
      "Epoch 69/100\n",
      "207/207 [==============================] - 3s 17ms/step - accuracy: 1.0000 - loss: 0.0046 - val_accuracy: 1.0000 - val_loss: 0.0041\n",
      "Epoch 70/100\n",
      "207/207 [==============================] - 3s 16ms/step - accuracy: 1.0000 - loss: 0.0045 - val_accuracy: 1.0000 - val_loss: 0.0042\n",
      "Epoch 71/100\n",
      "207/207 [==============================] - 4s 17ms/step - accuracy: 0.9999 - loss: 0.0046 - val_accuracy: 0.9930 - val_loss: 0.0145\n",
      "Epoch 72/100\n",
      "207/207 [==============================] - 3s 17ms/step - accuracy: 0.9991 - loss: 0.0073 - val_accuracy: 1.0000 - val_loss: 0.0046\n",
      "Epoch 73/100\n",
      "207/207 [==============================] - 3s 17ms/step - accuracy: 1.0000 - loss: 0.0047 - val_accuracy: 1.0000 - val_loss: 0.0042\n",
      "Epoch 74/100\n",
      "207/207 [==============================] - 3s 17ms/step - accuracy: 1.0000 - loss: 0.0045 - val_accuracy: 1.0000 - val_loss: 0.0040\n",
      "Epoch 75/100\n",
      "207/207 [==============================] - 4s 17ms/step - accuracy: 1.0000 - loss: 0.0044 - val_accuracy: 1.0000 - val_loss: 0.0040\n",
      "Epoch 76/100\n",
      "207/207 [==============================] - 4s 17ms/step - accuracy: 1.0000 - loss: 0.0043 - val_accuracy: 1.0000 - val_loss: 0.0039\n",
      "Epoch 77/100\n",
      "207/207 [==============================] - 4s 17ms/step - accuracy: 0.9997 - loss: 0.0047 - val_accuracy: 1.0000 - val_loss: 0.0066\n",
      "Epoch 78/100\n",
      "207/207 [==============================] - 4s 17ms/step - accuracy: 1.0000 - loss: 0.0045 - val_accuracy: 1.0000 - val_loss: 0.0039\n",
      "Epoch 79/100\n",
      "207/207 [==============================] - 4s 17ms/step - accuracy: 1.0000 - loss: 0.0042 - val_accuracy: 1.0000 - val_loss: 0.0038\n",
      "Epoch 80/100\n",
      "207/207 [==============================] - 3s 17ms/step - accuracy: 1.0000 - loss: 0.0041 - val_accuracy: 1.0000 - val_loss: 0.0037\n",
      "Epoch 81/100\n",
      "207/207 [==============================] - 3s 17ms/step - accuracy: 1.0000 - loss: 0.0041 - val_accuracy: 1.0000 - val_loss: 0.0036\n",
      "Epoch 82/100\n",
      "207/207 [==============================] - 4s 17ms/step - accuracy: 1.0000 - loss: 0.0040 - val_accuracy: 1.0000 - val_loss: 0.0036\n",
      "Epoch 83/100\n",
      "207/207 [==============================] - 3s 17ms/step - accuracy: 1.0000 - loss: 0.0039 - val_accuracy: 1.0000 - val_loss: 0.0035\n",
      "Epoch 84/100\n",
      "207/207 [==============================] - 4s 17ms/step - accuracy: 1.0000 - loss: 0.0042 - val_accuracy: 1.0000 - val_loss: 0.0038\n",
      "Epoch 85/100\n",
      "207/207 [==============================] - 3s 17ms/step - accuracy: 0.9996 - loss: 0.0056 - val_accuracy: 1.0000 - val_loss: 0.0039\n",
      "Epoch 86/100\n",
      "207/207 [==============================] - 4s 17ms/step - accuracy: 1.0000 - loss: 0.0041 - val_accuracy: 1.0000 - val_loss: 0.0037\n",
      "Epoch 87/100\n",
      "207/207 [==============================] - 3s 17ms/step - accuracy: 1.0000 - loss: 0.0040 - val_accuracy: 1.0000 - val_loss: 0.0035\n",
      "Epoch 88/100\n",
      "207/207 [==============================] - 4s 17ms/step - accuracy: 1.0000 - loss: 0.0038 - val_accuracy: 1.0000 - val_loss: 0.0035\n",
      "Epoch 89/100\n",
      "207/207 [==============================] - 4s 17ms/step - accuracy: 0.9998 - loss: 0.0044 - val_accuracy: 1.0000 - val_loss: 0.0052\n",
      "Epoch 90/100\n",
      "207/207 [==============================] - 4s 17ms/step - accuracy: 1.0000 - loss: 0.0041 - val_accuracy: 1.0000 - val_loss: 0.0037\n",
      "Epoch 91/100\n",
      "207/207 [==============================] - 3s 17ms/step - accuracy: 1.0000 - loss: 0.0037 - val_accuracy: 1.0000 - val_loss: 0.0034\n",
      "Epoch 92/100\n",
      "207/207 [==============================] - 4s 17ms/step - accuracy: 1.0000 - loss: 0.0037 - val_accuracy: 1.0000 - val_loss: 0.0035\n",
      "Epoch 93/100\n",
      "207/207 [==============================] - 4s 17ms/step - accuracy: 1.0000 - loss: 0.0036 - val_accuracy: 1.0000 - val_loss: 0.0032\n",
      "Epoch 94/100\n",
      "207/207 [==============================] - 3s 17ms/step - accuracy: 0.9999 - loss: 0.0038 - val_accuracy: 1.0000 - val_loss: 0.0033\n",
      "Epoch 95/100\n",
      "207/207 [==============================] - 4s 17ms/step - accuracy: 1.0000 - loss: 0.0035 - val_accuracy: 1.0000 - val_loss: 0.0032\n",
      "Epoch 96/100\n",
      "207/207 [==============================] - 3s 17ms/step - accuracy: 1.0000 - loss: 0.0035 - val_accuracy: 1.0000 - val_loss: 0.0031\n",
      "Epoch 97/100\n",
      "207/207 [==============================] - 3s 17ms/step - accuracy: 1.0000 - loss: 0.0035 - val_accuracy: 1.0000 - val_loss: 0.0034\n",
      "Epoch 98/100\n",
      "207/207 [==============================] - 4s 17ms/step - accuracy: 1.0000 - loss: 0.0034 - val_accuracy: 1.0000 - val_loss: 0.0031\n",
      "Epoch 99/100\n",
      "207/207 [==============================] - 4s 17ms/step - accuracy: 0.9998 - loss: 0.0041 - val_accuracy: 1.0000 - val_loss: 0.0047\n",
      "Epoch 100/100\n"
     ]
    },
    {
     "name": "stdout",
     "output_type": "stream",
     "text": [
      "207/207 [==============================] - 3s 17ms/step - accuracy: 1.0000 - loss: 0.0039 - val_accuracy: 1.0000 - val_loss: 0.0034\n"
     ]
    }
   ],
   "source": [
    "from tensorflow.keras.layers import Dense, Conv1D, MaxPool1D, BatchNormalization\n",
    "\n",
    "dataarray_width = 4423 \n",
    "dataarray_high =  2\n",
    "epochs = 100\n",
    "\n",
    "# generate train and test data automatically, using scikit-learn\n",
    "# how diside random state size???\n",
    "\n",
    "with tf.distribute.MirroredStrategy().scope():\n",
    "    # CNNを構築\n",
    "    model = Sequential()\n",
    "    model.add(Conv1D(32, 7, strides= 3,activation='relu', input_shape = (dataarray_width, dataarray_high) ) )\n",
    "    model.add(MaxPool1D(3))\n",
    "    model.add(Conv1D(32, 5, strides= 3,activation='relu'))\n",
    "    model.add(MaxPool1D(3))\n",
    "    model.add(Conv1D(32, 5, strides= 3,activation='relu'))\n",
    "    model.add(Conv1D(32, 5,strides= 3, activation='relu'))\n",
    "    model.add(Flatten())\n",
    "    model.add(BatchNormalization())\n",
    "    model.add(Dense(7, activation='softmax', kernel_regularizer = tf.keras.regularizers.l1_l2(l1=0.001, l2=0.001) ))\n",
    "\n",
    "    model.summary()\n",
    "\n",
    "# コンパイル\n",
    "model.compile(optimizer='adam',\n",
    "              loss='binary_crossentropy',\n",
    "              metrics=['accuracy'])\n",
    "\n",
    "# 実行。出力はなしで設定(verbose=0)。\n",
    "history = model.fit(csvs_train, label_train, batch_size=256, epochs=epochs, validation_data=(csvs_test, label_test))\n",
    "\n"
   ]
  },
  {
   "cell_type": "code",
   "execution_count": null,
   "metadata": {
    "id": "KR9Jh3PkjFLq"
   },
   "outputs": [],
   "source": [
    "from tensorflow.keras.models import Sequential\n",
    "from tensorflow.keras import layers\n",
    "from tensorflow.keras.optimizers import RMSprop\n",
    "from tensorflow.keras.datasets import mnist\n",
    "from tensorflow.keras.utils import to_categorical"
   ]
  },
  {
   "cell_type": "code",
   "execution_count": null,
   "metadata": {
    "id": "8tLonhWehpkG"
   },
   "outputs": [],
   "source": []
  },
  {
   "cell_type": "code",
   "execution_count": 16,
   "metadata": {
    "colab": {
     "base_uri": "https://localhost:8080/",
     "height": 236
    },
    "id": "B7vSS07_xTg9",
    "outputId": "77c0c33f-78ba-495a-8d7c-b92374c41e5b"
   },
   "outputs": [
    {
     "name": "stdout",
     "output_type": "stream",
     "text": [
      "<tensorflow.python.keras.callbacks.History object at 0x7f03c5e0def0>\n"
     ]
    },
    {
     "data": {
      "image/png": "[encoded data removed]",
      "text/plain": [
       "<Figure size 432x288 with 1 Axes>"
      ]
     },
     "metadata": {
      "needs_background": "light"
     },
     "output_type": "display_data"
    }
   ],
   "source": [
    "print(history)\n",
    "plt.title('1DCNN ' )\n",
    "plt.plot(range(1, epochs+1),  history.history['accuracy'], label=\"training\")\n",
    "plt.plot(range(1, epochs+ 1), history.history['val_accuracy'], label=\"validation\")\n",
    "plt.xlabel('Epochs')\n",
    "plt.ylabel('Accuracy')\n",
    "plt.legend()\n",
    "plt.show()\n",
    "\n"
   ]
  },
  {
   "cell_type": "code",
   "execution_count": null,
   "metadata": {},
   "outputs": [],
   "source": []
  }
 ],
 "metadata": {
  "accelerator": "GPU",
  "colab": {
   "collapsed_sections": [],
   "name": "FoodRecognition_fromHaptics_1DCNN.ipynb ",
   "provenance": []
  },
  "kernelspec": {
   "display_name": "Python 3",
   "language": "python",
   "name": "python3"
  },
  "language_info": {
   "codemirror_mode": {
    "name": "ipython",
    "version": 3
   },
   "file_extension": ".py",
   "mimetype": "text/x-python",
   "name": "python",
   "nbconvert_exporter": "python",
   "pygments_lexer": "ipython3",
   "version": "3.6.12"
  }
 },
 "nbformat": 4,
 "nbformat_minor": 1
}
