{
 "cells": [
  {
   "cell_type": "code",
   "execution_count": null,
   "metadata": {
    "colab": {
     "base_uri": "https://localhost:8080/"
    },
    "id": "kRi_AKqMV3t_",
    "outputId": "3be5e6d3-10ef-4812-cddc-9c492f108554"
   },
   "outputs": [],
   "source": []
  },
  {
   "cell_type": "code",
   "execution_count": null,
   "metadata": {
    "colab": {
     "base_uri": "https://localhost:8080/"
    },
    "id": "sTGxR1UyV_EF",
    "outputId": "2d23c5a6-1773-4dce-e0d2-d679e16590e7"
   },
   "outputs": [],
   "source": [
    "\n"
   ]
  },
  {
   "cell_type": "code",
   "execution_count": null,
   "metadata": {
    "colab": {
     "base_uri": "https://localhost:8080/"
    },
    "id": "oFnpZSChEt56",
    "outputId": "94ec3e73-94d4-4dbe-ada4-0a85abb203c0"
   },
   "outputs": [],
   "source": []
  },
  {
   "cell_type": "code",
   "execution_count": 1,
   "metadata": {
    "colab": {
     "base_uri": "https://localhost:8080/",
     "height": 425
    },
    "id": "plDfMXecWATI",
    "outputId": "9cf2ea63-45d4-4965-fd32-c8c279adaaab"
   },
   "outputs": [
    {
     "name": "stdout",
     "output_type": "stream",
     "text": [
      "(10664, 2, 4423)\n",
      "(10664, 2, 4423)\n"
     ]
    }
   ],
   "source": [
    "# coding:utf-8\n",
    "import numpy as np\n",
    "import pandas as pd\n",
    "from sklearn.model_selection import train_test_split\n",
    "import matplotlib.pyplot as plt\n",
    "import re\n",
    "import os\n",
    "from PIL import Image\n",
    "import glob\n",
    "import tensorflow as tf\n",
    "\n",
    "from tensorflow.keras.models import Sequential\n",
    "from tensorflow.keras.layers import Dense, Conv2D, Flatten, Dropout, MaxPooling2D, LSTM\n",
    "from tensorflow.keras.preprocessing.image import ImageDataGenerator\n",
    "\n",
    "csvdata_dir = \"/home/stsubokura/FoodRecognition/data/\"\n",
    "\n",
    "folder = [\"cucumberinside_csv\",\"cucumberoutside_csv\",\"eggplant_csv\",\"gumi_csv\", \"kamaboko_csv\", \"konnyaku_csv\", \"marshmallow_csv\"]\n",
    "\n",
    "max_dataarraysize = 4423 \n",
    "\n",
    "csvs = []\n",
    "label = []\n",
    "buffer = 50\n",
    "\n",
    "for index, name in enumerate(folder):\n",
    "    dir = csvdata_dir + name\n",
    "    files = glob.glob(dir + \"/*.csv\")\n",
    "    for i, file in enumerate(files):\n",
    "        csv = pd.read_csv(file, sep = '\\t', encoding = \"shift-jis\", error_bad_lines = False, header = None,skiprows=[0])\n",
    "        \n",
    "        data_delbefore = np.array(csv, dtype = np.float32).T\n",
    "        data_deleted = np.delete(data_delbefore, 0, axis = 0) #delete meaningless law\n",
    "        data_array = data_deleted - data_deleted.mean(axis=0)\n",
    "\n",
    "        data_array_zero = np.zeros((2, max_dataarraysize))\n",
    "        \n",
    "        for i in range(0, int(max_dataarraysize - data_array.shape[1]), buffer):\n",
    "            data_array_zero = np.zeros((2, max_dataarraysize))\n",
    "            data_array_zero[:, :data_array.shape[1]] = data_array\n",
    "            csvs.append(data_array_zero)\n",
    "            label.append(index)\n",
    "\n",
    "csvs = np.asarray(csvs)\n",
    "\n",
    "csvs = csvs\n",
    "csvs = csvs.astype('float32')\n",
    "\n",
    "\n",
    "label = np.asarray(label)\n",
    "label =  tf.keras.utils.to_categorical(label, 7)\n",
    "\n",
    "csvs_train, csvs_test, label_train, label_test = train_test_split(csvs, label, test_size=0.1, random_state=111)\n",
    "\n",
    "print(csvs_train.shape)\n",
    "print(csvs_train.shape)\n"
   ]
  },
  {
   "cell_type": "code",
   "execution_count": 5,
   "metadata": {
    "id": "loAJjqGja9ve"
   },
   "outputs": [
    {
     "name": "stdout",
     "output_type": "stream",
     "text": [
      "(2, 4423)\n"
     ]
    }
   ],
   "source": [
    "np.set_printoptions(threshold=np.inf)\n",
    "print(csvs_train.shape[1:])"
   ]
  },
  {
   "cell_type": "code",
   "execution_count": 11,
   "metadata": {
    "colab": {
     "base_uri": "https://localhost:8080/"
    },
    "id": "NMB6AQAYcE7J",
    "outputId": "c4d32058-12de-4c3e-e5c4-30c97b84a565"
   },
   "outputs": [
    {
     "name": "stdout",
     "output_type": "stream",
     "text": [
      "INFO:tensorflow:Using MirroredStrategy with devices ('/job:localhost/replica:0/task:0/device:GPU:0', '/job:localhost/replica:0/task:0/device:GPU:1', '/job:localhost/replica:0/task:0/device:GPU:2', '/job:localhost/replica:0/task:0/device:GPU:3')\n",
      "WARNING:tensorflow:Layer lstm_2 will not use cuDNN kernel since it doesn't meet the cuDNN kernel criteria. It will use generic GPU kernel as fallback when running on GPU\n",
      "Model: \"sequential_2\"\n",
      "_________________________________________________________________\n",
      "Layer (type)                 Output Shape              Param #   \n",
      "=================================================================\n",
      "lstm_2 (LSTM)                (None, 32)                570368    \n",
      "_________________________________________________________________\n",
      "dense_2 (Dense)              (None, 7)                 231       \n",
      "=================================================================\n",
      "Total params: 570,599\n",
      "Trainable params: 570,599\n",
      "Non-trainable params: 0\n",
      "_________________________________________________________________\n",
      "Epoch 1/100\n",
      "INFO:tensorflow:batch_all_reduce: 5 all-reduces with algorithm = nccl, num_packs = 1\n",
      "INFO:tensorflow:batch_all_reduce: 5 all-reduces with algorithm = nccl, num_packs = 1\n",
      "42/42 [==============================] - 3s 71ms/step - accuracy: 0.3416 - loss: 0.3616 - val_accuracy: 0.4017 - val_loss: 0.3330\n",
      "Epoch 2/100\n",
      "42/42 [==============================] - 1s 22ms/step - accuracy: 0.4528 - loss: 0.3146 - val_accuracy: 0.4776 - val_loss: 0.3047\n",
      "Epoch 3/100\n",
      "42/42 [==============================] - 1s 22ms/step - accuracy: 0.5483 - loss: 0.2734 - val_accuracy: 0.5738 - val_loss: 0.2551\n",
      "Epoch 4/100\n",
      "42/42 [==============================] - 1s 23ms/step - accuracy: 0.6060 - loss: 0.2411 - val_accuracy: 0.6354 - val_loss: 0.2215\n",
      "Epoch 5/100\n",
      "42/42 [==============================] - 1s 22ms/step - accuracy: 0.6868 - loss: 0.1967 - val_accuracy: 0.6599 - val_loss: 0.1996\n",
      "Epoch 6/100\n",
      "42/42 [==============================] - 1s 22ms/step - accuracy: 0.7182 - loss: 0.1797 - val_accuracy: 0.7122 - val_loss: 0.1795\n",
      "Epoch 7/100\n",
      "42/42 [==============================] - 1s 23ms/step - accuracy: 0.7788 - loss: 0.1484 - val_accuracy: 0.8177 - val_loss: 0.1187\n",
      "Epoch 8/100\n",
      "42/42 [==============================] - 1s 23ms/step - accuracy: 0.8591 - loss: 0.1029 - val_accuracy: 0.8329 - val_loss: 0.1195\n",
      "Epoch 9/100\n",
      "42/42 [==============================] - 1s 23ms/step - accuracy: 0.8503 - loss: 0.1052 - val_accuracy: 0.9097 - val_loss: 0.0744\n",
      "Epoch 10/100\n",
      "42/42 [==============================] - 1s 22ms/step - accuracy: 0.9124 - loss: 0.0679 - val_accuracy: 0.8287 - val_loss: 0.1393\n",
      "Epoch 11/100\n",
      "42/42 [==============================] - 1s 22ms/step - accuracy: 0.8412 - loss: 0.1134 - val_accuracy: 0.8844 - val_loss: 0.0840\n",
      "Epoch 12/100\n",
      "42/42 [==============================] - 1s 22ms/step - accuracy: 0.9169 - loss: 0.0648 - val_accuracy: 0.9418 - val_loss: 0.0472\n",
      "Epoch 13/100\n",
      "42/42 [==============================] - 1s 23ms/step - accuracy: 0.9534 - loss: 0.0419 - val_accuracy: 0.9367 - val_loss: 0.0516\n",
      "Epoch 14/100\n",
      "42/42 [==============================] - 1s 23ms/step - accuracy: 0.8744 - loss: 0.0895 - val_accuracy: 0.9257 - val_loss: 0.0671\n",
      "Epoch 15/100\n",
      "42/42 [==============================] - 1s 22ms/step - accuracy: 0.9519 - loss: 0.0406 - val_accuracy: 0.9435 - val_loss: 0.0375\n",
      "Epoch 16/100\n",
      "42/42 [==============================] - 1s 22ms/step - accuracy: 0.9402 - loss: 0.0498 - val_accuracy: 0.8236 - val_loss: 0.1208\n",
      "Epoch 17/100\n",
      "42/42 [==============================] - 1s 22ms/step - accuracy: 0.8777 - loss: 0.0906 - val_accuracy: 0.9511 - val_loss: 0.0508\n",
      "Epoch 18/100\n",
      "42/42 [==============================] - 1s 23ms/step - accuracy: 0.9662 - loss: 0.0306 - val_accuracy: 0.9527 - val_loss: 0.0420\n",
      "Epoch 19/100\n",
      "42/42 [==============================] - 1s 23ms/step - accuracy: 0.9384 - loss: 0.0423 - val_accuracy: 0.9443 - val_loss: 0.0328\n",
      "Epoch 20/100\n",
      "42/42 [==============================] - 1s 23ms/step - accuracy: 0.9714 - loss: 0.0246 - val_accuracy: 0.9873 - val_loss: 0.0194\n",
      "Epoch 21/100\n",
      "42/42 [==============================] - 1s 23ms/step - accuracy: 0.9834 - loss: 0.0157 - val_accuracy: 0.9899 - val_loss: 0.0111\n",
      "Epoch 22/100\n",
      "42/42 [==============================] - 1s 23ms/step - accuracy: 0.9803 - loss: 0.0162 - val_accuracy: 0.9781 - val_loss: 0.0203\n",
      "Epoch 23/100\n",
      "42/42 [==============================] - 1s 22ms/step - accuracy: 0.9853 - loss: 0.0143 - val_accuracy: 0.9781 - val_loss: 0.0129\n",
      "Epoch 24/100\n",
      "42/42 [==============================] - 1s 23ms/step - accuracy: 0.9629 - loss: 0.0269 - val_accuracy: 0.9055 - val_loss: 0.0611\n",
      "Epoch 25/100\n",
      "42/42 [==============================] - 1s 22ms/step - accuracy: 0.9467 - loss: 0.0419 - val_accuracy: 0.9468 - val_loss: 0.0334\n",
      "Epoch 26/100\n",
      "42/42 [==============================] - 1s 22ms/step - accuracy: 0.9683 - loss: 0.0245 - val_accuracy: 0.9823 - val_loss: 0.0210\n",
      "Epoch 27/100\n",
      "42/42 [==============================] - 1s 23ms/step - accuracy: 0.9759 - loss: 0.0196 - val_accuracy: 0.9696 - val_loss: 0.0198\n",
      "Epoch 28/100\n",
      "42/42 [==============================] - 1s 22ms/step - accuracy: 0.9902 - loss: 0.0101 - val_accuracy: 1.0000 - val_loss: 0.0062\n",
      "Epoch 29/100\n",
      "42/42 [==============================] - 1s 22ms/step - accuracy: 0.9946 - loss: 0.0061 - val_accuracy: 0.9916 - val_loss: 0.0067\n",
      "Epoch 30/100\n",
      "42/42 [==============================] - 1s 22ms/step - accuracy: 0.9891 - loss: 0.0109 - val_accuracy: 0.8886 - val_loss: 0.0840\n",
      "Epoch 31/100\n",
      "42/42 [==============================] - 1s 23ms/step - accuracy: 0.9375 - loss: 0.0480 - val_accuracy: 0.9738 - val_loss: 0.0241\n",
      "Epoch 32/100\n",
      "42/42 [==============================] - 1s 23ms/step - accuracy: 0.9402 - loss: 0.0444 - val_accuracy: 0.9620 - val_loss: 0.0285\n",
      "Epoch 33/100\n",
      "42/42 [==============================] - 1s 22ms/step - accuracy: 0.9889 - loss: 0.0109 - val_accuracy: 0.9857 - val_loss: 0.0087\n",
      "Epoch 34/100\n",
      "42/42 [==============================] - 1s 22ms/step - accuracy: 0.9891 - loss: 0.0100 - val_accuracy: 1.0000 - val_loss: 0.0086\n",
      "Epoch 35/100\n",
      "42/42 [==============================] - 1s 23ms/step - accuracy: 0.9919 - loss: 0.0086 - val_accuracy: 0.9873 - val_loss: 0.0092\n",
      "Epoch 36/100\n",
      "42/42 [==============================] - 1s 22ms/step - accuracy: 0.9952 - loss: 0.0049 - val_accuracy: 1.0000 - val_loss: 0.0038\n",
      "Epoch 37/100\n",
      "42/42 [==============================] - 1s 23ms/step - accuracy: 0.9931 - loss: 0.0060 - val_accuracy: 1.0000 - val_loss: 0.0051\n",
      "Epoch 38/100\n",
      "42/42 [==============================] - 1s 23ms/step - accuracy: 0.9892 - loss: 0.0087 - val_accuracy: 0.9755 - val_loss: 0.0197\n",
      "Epoch 39/100\n",
      "42/42 [==============================] - 1s 23ms/step - accuracy: 0.5939 - loss: 0.3806 - val_accuracy: 0.6169 - val_loss: 0.2517\n",
      "Epoch 40/100\n",
      "42/42 [==============================] - 1s 23ms/step - accuracy: 0.7126 - loss: 0.1925 - val_accuracy: 0.8194 - val_loss: 0.1388\n",
      "Epoch 41/100\n",
      "42/42 [==============================] - 1s 22ms/step - accuracy: 0.8551 - loss: 0.1133 - val_accuracy: 0.8911 - val_loss: 0.0928\n",
      "Epoch 42/100\n",
      "42/42 [==============================] - 1s 22ms/step - accuracy: 0.9165 - loss: 0.0701 - val_accuracy: 0.9435 - val_loss: 0.0547\n",
      "Epoch 43/100\n",
      "42/42 [==============================] - 1s 22ms/step - accuracy: 0.9450 - loss: 0.0481 - val_accuracy: 0.9713 - val_loss: 0.0370\n",
      "Epoch 44/100\n",
      "42/42 [==============================] - 1s 22ms/step - accuracy: 0.9653 - loss: 0.0348 - val_accuracy: 0.9426 - val_loss: 0.0346\n",
      "Epoch 45/100\n",
      "42/42 [==============================] - 1s 22ms/step - accuracy: 0.9611 - loss: 0.0346 - val_accuracy: 0.9511 - val_loss: 0.0322\n",
      "Epoch 46/100\n",
      "42/42 [==============================] - 1s 23ms/step - accuracy: 0.9796 - loss: 0.0210 - val_accuracy: 0.9578 - val_loss: 0.0275\n",
      "Epoch 47/100\n",
      "42/42 [==============================] - 1s 22ms/step - accuracy: 0.9794 - loss: 0.0201 - val_accuracy: 0.9232 - val_loss: 0.0491\n",
      "Epoch 48/100\n",
      "42/42 [==============================] - 1s 22ms/step - accuracy: 0.9450 - loss: 0.0409 - val_accuracy: 0.9148 - val_loss: 0.0586\n",
      "Epoch 49/100\n",
      "42/42 [==============================] - 1s 23ms/step - accuracy: 0.9449 - loss: 0.0416 - val_accuracy: 0.9705 - val_loss: 0.0269\n"
     ]
    },
    {
     "name": "stdout",
     "output_type": "stream",
     "text": [
      "Epoch 50/100\n",
      "42/42 [==============================] - 1s 22ms/step - accuracy: 0.9835 - loss: 0.0156 - val_accuracy: 0.9873 - val_loss: 0.0114\n",
      "Epoch 51/100\n",
      "42/42 [==============================] - 1s 22ms/step - accuracy: 0.9873 - loss: 0.0104 - val_accuracy: 0.9916 - val_loss: 0.0100\n",
      "Epoch 52/100\n",
      "42/42 [==============================] - 1s 22ms/step - accuracy: 0.8215 - loss: 0.1432 - val_accuracy: 0.8895 - val_loss: 0.0791\n",
      "Epoch 53/100\n",
      "42/42 [==============================] - 1s 23ms/step - accuracy: 0.9294 - loss: 0.0532 - val_accuracy: 0.9747 - val_loss: 0.0296\n",
      "Epoch 54/100\n",
      "42/42 [==============================] - 1s 23ms/step - accuracy: 0.9739 - loss: 0.0276 - val_accuracy: 0.9848 - val_loss: 0.0213\n",
      "Epoch 55/100\n",
      "42/42 [==============================] - 1s 22ms/step - accuracy: 0.9822 - loss: 0.0177 - val_accuracy: 0.9730 - val_loss: 0.0193\n",
      "Epoch 56/100\n",
      "42/42 [==============================] - 1s 23ms/step - accuracy: 0.9842 - loss: 0.0149 - val_accuracy: 0.9831 - val_loss: 0.0140\n",
      "Epoch 57/100\n",
      "42/42 [==============================] - 1s 23ms/step - accuracy: 0.9864 - loss: 0.0117 - val_accuracy: 0.9671 - val_loss: 0.0165\n",
      "Epoch 58/100\n",
      "42/42 [==============================] - 1s 22ms/step - accuracy: 0.9721 - loss: 0.0214 - val_accuracy: 0.9823 - val_loss: 0.0152\n",
      "Epoch 59/100\n",
      "42/42 [==============================] - 1s 22ms/step - accuracy: 0.8953 - loss: 0.0871 - val_accuracy: 0.9603 - val_loss: 0.0363\n",
      "Epoch 60/100\n",
      "42/42 [==============================] - 1s 22ms/step - accuracy: 0.9857 - loss: 0.0175 - val_accuracy: 0.9916 - val_loss: 0.0108\n",
      "Epoch 61/100\n",
      "42/42 [==============================] - 1s 30ms/step - accuracy: 0.9947 - loss: 0.0080 - val_accuracy: 0.9916 - val_loss: 0.0076\n",
      "Epoch 62/100\n",
      "42/42 [==============================] - 1s 21ms/step - accuracy: 0.9934 - loss: 0.0065 - val_accuracy: 0.9907 - val_loss: 0.0070\n",
      "Epoch 63/100\n",
      "42/42 [==============================] - 1s 22ms/step - accuracy: 0.9943 - loss: 0.0058 - val_accuracy: 0.9958 - val_loss: 0.0073\n",
      "Epoch 64/100\n",
      "42/42 [==============================] - 1s 23ms/step - accuracy: 0.9750 - loss: 0.0198 - val_accuracy: 0.9755 - val_loss: 0.0161\n",
      "Epoch 65/100\n",
      "42/42 [==============================] - 1s 23ms/step - accuracy: 0.9811 - loss: 0.0157 - val_accuracy: 0.9907 - val_loss: 0.0083\n",
      "Epoch 66/100\n",
      "42/42 [==============================] - 1s 23ms/step - accuracy: 0.9887 - loss: 0.0083 - val_accuracy: 0.9857 - val_loss: 0.0100\n",
      "Epoch 67/100\n",
      "42/42 [==============================] - 1s 22ms/step - accuracy: 0.9931 - loss: 0.0056 - val_accuracy: 0.9958 - val_loss: 0.0062\n",
      "Epoch 68/100\n",
      "42/42 [==============================] - 1s 23ms/step - accuracy: 0.9928 - loss: 0.0053 - val_accuracy: 0.9865 - val_loss: 0.0076\n",
      "Epoch 69/100\n",
      "42/42 [==============================] - 1s 23ms/step - accuracy: 0.9905 - loss: 0.0057 - val_accuracy: 0.9789 - val_loss: 0.0182\n",
      "Epoch 70/100\n",
      "42/42 [==============================] - 1s 22ms/step - accuracy: 0.9905 - loss: 0.0066 - val_accuracy: 0.9916 - val_loss: 0.0053\n",
      "Epoch 71/100\n",
      "42/42 [==============================] - 1s 22ms/step - accuracy: 0.9933 - loss: 0.0050 - val_accuracy: 0.9916 - val_loss: 0.0066\n",
      "Epoch 72/100\n",
      "42/42 [==============================] - 1s 23ms/step - accuracy: 0.9917 - loss: 0.0055 - val_accuracy: 0.9857 - val_loss: 0.0057\n",
      "Epoch 73/100\n",
      "42/42 [==============================] - 1s 22ms/step - accuracy: 0.9950 - loss: 0.0036 - val_accuracy: 0.9916 - val_loss: 0.0040\n",
      "Epoch 74/100\n",
      "42/42 [==============================] - 1s 23ms/step - accuracy: 0.9925 - loss: 0.0056 - val_accuracy: 0.9916 - val_loss: 0.0067\n",
      "Epoch 75/100\n",
      "42/42 [==============================] - 1s 22ms/step - accuracy: 0.9137 - loss: 0.0755 - val_accuracy: 0.9620 - val_loss: 0.0279\n",
      "Epoch 76/100\n",
      "42/42 [==============================] - 1s 23ms/step - accuracy: 0.9770 - loss: 0.0184 - val_accuracy: 0.9916 - val_loss: 0.0061\n",
      "Epoch 77/100\n",
      "42/42 [==============================] - 1s 22ms/step - accuracy: 0.9944 - loss: 0.0053 - val_accuracy: 0.9916 - val_loss: 0.0088\n",
      "Epoch 78/100\n",
      "42/42 [==============================] - 1s 23ms/step - accuracy: 0.9939 - loss: 0.0051 - val_accuracy: 1.0000 - val_loss: 0.0048\n",
      "Epoch 79/100\n",
      "42/42 [==============================] - 1s 22ms/step - accuracy: 0.9951 - loss: 0.0043 - val_accuracy: 0.9899 - val_loss: 0.0045\n",
      "Epoch 80/100\n",
      "42/42 [==============================] - 1s 22ms/step - accuracy: 0.9959 - loss: 0.0032 - val_accuracy: 0.9916 - val_loss: 0.0056\n",
      "Epoch 81/100\n",
      "42/42 [==============================] - 1s 22ms/step - accuracy: 0.9937 - loss: 0.0042 - val_accuracy: 0.9916 - val_loss: 0.0048\n",
      "Epoch 82/100\n",
      "42/42 [==============================] - 1s 22ms/step - accuracy: 0.9797 - loss: 0.0199 - val_accuracy: 0.8287 - val_loss: 0.1961\n",
      "Epoch 83/100\n",
      "42/42 [==============================] - 1s 22ms/step - accuracy: 0.9039 - loss: 0.0779 - val_accuracy: 0.9730 - val_loss: 0.0186\n",
      "Epoch 84/100\n",
      "42/42 [==============================] - 1s 22ms/step - accuracy: 0.9931 - loss: 0.0093 - val_accuracy: 0.9899 - val_loss: 0.0066\n",
      "Epoch 85/100\n",
      "42/42 [==============================] - 1s 23ms/step - accuracy: 0.9948 - loss: 0.0057 - val_accuracy: 0.9916 - val_loss: 0.0096\n",
      "Epoch 86/100\n",
      "42/42 [==============================] - 1s 23ms/step - accuracy: 0.9937 - loss: 0.0059 - val_accuracy: 1.0000 - val_loss: 0.0054\n",
      "Epoch 87/100\n",
      "42/42 [==============================] - 1s 23ms/step - accuracy: 0.9948 - loss: 0.0051 - val_accuracy: 0.9865 - val_loss: 0.0061\n",
      "Epoch 88/100\n",
      "42/42 [==============================] - 1s 22ms/step - accuracy: 0.9945 - loss: 0.0044 - val_accuracy: 0.9958 - val_loss: 0.0050\n",
      "Epoch 89/100\n",
      "42/42 [==============================] - 1s 22ms/step - accuracy: 0.9951 - loss: 0.0041 - val_accuracy: 1.0000 - val_loss: 0.0039\n",
      "Epoch 90/100\n",
      "42/42 [==============================] - 1s 23ms/step - accuracy: 0.9946 - loss: 0.0041 - val_accuracy: 1.0000 - val_loss: 0.0036\n",
      "Epoch 91/100\n",
      "42/42 [==============================] - 1s 22ms/step - accuracy: 0.9967 - loss: 0.0035 - val_accuracy: 0.9823 - val_loss: 0.0130\n",
      "Epoch 92/100\n",
      "42/42 [==============================] - 1s 23ms/step - accuracy: 0.9662 - loss: 0.0286 - val_accuracy: 0.9283 - val_loss: 0.0505\n",
      "Epoch 93/100\n",
      "42/42 [==============================] - 1s 22ms/step - accuracy: 0.9655 - loss: 0.0273 - val_accuracy: 0.9882 - val_loss: 0.0108\n",
      "Epoch 94/100\n",
      "42/42 [==============================] - 1s 23ms/step - accuracy: 0.9935 - loss: 0.0071 - val_accuracy: 0.9958 - val_loss: 0.0056\n",
      "Epoch 95/100\n",
      "42/42 [==============================] - 1s 23ms/step - accuracy: 0.9938 - loss: 0.0065 - val_accuracy: 0.9789 - val_loss: 0.0154\n",
      "Epoch 96/100\n",
      "42/42 [==============================] - 1s 22ms/step - accuracy: 0.9906 - loss: 0.0077 - val_accuracy: 0.9865 - val_loss: 0.0087\n",
      "Epoch 97/100\n",
      "42/42 [==============================] - 1s 23ms/step - accuracy: 0.9917 - loss: 0.0073 - val_accuracy: 0.9916 - val_loss: 0.0056\n",
      "Epoch 98/100\n",
      "42/42 [==============================] - 1s 23ms/step - accuracy: 0.9933 - loss: 0.0050 - val_accuracy: 0.9916 - val_loss: 0.0050\n",
      "Epoch 99/100\n",
      "42/42 [==============================] - 1s 22ms/step - accuracy: 0.9875 - loss: 0.0111 - val_accuracy: 0.9384 - val_loss: 0.0520\n",
      "Epoch 100/100\n",
      "42/42 [==============================] - 1s 22ms/step - accuracy: 0.8289 - loss: 0.1646 - val_accuracy: 0.6624 - val_loss: 0.2301\n"
     ]
    }
   ],
   "source": [
    "# RNNを構築\n",
    "hid_dim = 32\n",
    "epochs = 100\n",
    "#複数のGPUを用いる\n",
    "\n",
    "with tf.distribute.MirroredStrategy().scope():\n",
    "    model = Sequential()\n",
    "    model.add(LSTM(hid_dim, input_shape=csvs_train.shape[1:], activation = 'relu')) # input_shape=(系列長T, x_tの次元), output_shape=(units(=hid_dim),)\n",
    "    model.add(Dense(label_train.shape[1], activation='softmax'))\n",
    "    model.summary()\n",
    "\n",
    "# コンパイル\n",
    "model.compile(optimizer='adam',loss='binary_crossentropy',metrics=['accuracy'])\n",
    "\n",
    "# # 実行。出力はなしで設定(verbose=0)。\n",
    "# history = model.fit(dataarrays_train, label_train, batch_size=, epochs=100, validation_data=(dataarrays_test, label_test))\n",
    "\n",
    "# 実行。出力はなしで設定(verbose=0)。\n",
    "history = model.fit(csvs_train, label_train, batch_size=256, epochs=epochs, validation_data=(csvs_test, label_test))\n"
   ]
  },
  {
   "cell_type": "code",
   "execution_count": 12,
   "metadata": {
    "colab": {
     "base_uri": "https://localhost:8080/",
     "height": 236
    },
    "id": "B7vSS07_xTg9",
    "outputId": "77c0c33f-78ba-495a-8d7c-b92374c41e5b"
   },
   "outputs": [
    {
     "data": {
      "image/png": "[encoded data removed]",
      "text/plain": [
       "<Figure size 432x288 with 1 Axes>"
      ]
     },
     "metadata": {
      "needs_background": "light"
     },
     "output_type": "display_data"
    }
   ],
   "source": [
    "plt.title('LSTM : hid_dim = ' + str(hid_dim))\n",
    "plt.plot(range(1, epochs+1), history.history['accuracy'], label=\"training\")\n",
    "plt.plot(range(1, epochs+1), history.history['val_accuracy'], label=\"validation\")\n",
    "plt.xlabel('Epochs')\n",
    "plt.ylabel('Accuracy')\n",
    "plt.legend()\n",
    "plt.show()\n"
   ]
  },
  {
   "cell_type": "code",
   "execution_count": null,
   "metadata": {},
   "outputs": [],
   "source": []
  }
 ],
 "metadata": {
  "accelerator": "GPU",
  "colab": {
   "collapsed_sections": [],
   "name": "FoodRecognition_fromHaptics_1DCNN.ipynb ",
   "provenance": []
  },
  "kernelspec": {
   "display_name": "Python 3",
   "language": "python",
   "name": "python3"
  },
  "language_info": {
   "codemirror_mode": {
    "name": "ipython",
    "version": 3
   },
   "file_extension": ".py",
   "mimetype": "text/x-python",
   "name": "python",
   "nbconvert_exporter": "python",
   "pygments_lexer": "ipython3",
   "version": "3.6.12"
  }
 },
 "nbformat": 4,
 "nbformat_minor": 1
}
