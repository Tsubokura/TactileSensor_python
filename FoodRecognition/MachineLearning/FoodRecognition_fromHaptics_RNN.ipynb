{
 "cells": [
  {
   "cell_type": "code",
   "execution_count": 1,
   "metadata": {
    "colab": {
     "base_uri": "https://localhost:8080/",
     "height": 425
    },
    "id": "plDfMXecWATI",
    "outputId": "9cf2ea63-45d4-4965-fd32-c8c279adaaab"
   },
   "outputs": [
    {
     "name": "stdout",
     "output_type": "stream",
     "text": [
      "(10664, 2, 4423)\n",
      "(10664, 2, 4423)\n"
     ]
    }
   ],
   "source": [
    "# coding:utf-8\n",
    "import numpy as np\n",
    "import pandas as pd\n",
    "from sklearn.model_selection import train_test_split\n",
    "import matplotlib.pyplot as plt\n",
    "import re\n",
    "import os\n",
    "from PIL import Image\n",
    "import glob\n",
    "import tensorflow as tf\n",
    "\n",
    "from tensorflow.keras.models import Sequential\n",
    "from tensorflow.keras.layers import Dense, Conv2D, Flatten, Dropout, MaxPooling2D, SimpleRNN\n",
    "from tensorflow.keras.preprocessing.image import ImageDataGenerator\n",
    "\n",
    "csvdata_dir = \"/home/stsubokura/FoodRecognition/data/\"\n",
    "\n",
    "folder = [\"cucumberinside_csv\",\"cucumberoutside_csv\",\"eggplant_csv\",\"gumi_csv\", \"kamaboko_csv\", \"konnyaku_csv\", \"marshmallow_csv\"]\n",
    "\n",
    "max_dataarraysize = 4423 \n",
    "\n",
    "csvs = []\n",
    "label = []\n",
    "buffer = 50\n",
    "\n",
    "for index, name in enumerate(folder):\n",
    "    dir = csvdata_dir + name\n",
    "    files = glob.glob(dir + \"/*.csv\")\n",
    "    for i, file in enumerate(files):\n",
    "        csv = pd.read_csv(file, sep = '\\t', encoding = \"shift-jis\", error_bad_lines = False, header = None,skiprows=[0])\n",
    "        \n",
    "        data_delbefore = np.array(csv, dtype = np.float32).T\n",
    "        data_deleted = np.delete(data_delbefore, 0, axis = 0) #delete meaningless law\n",
    "        data_array = data_deleted - data_deleted.mean(axis=0)\n",
    "\n",
    "        data_array_zero = np.zeros((2, max_dataarraysize))\n",
    "        \n",
    "        for i in range(0, int(max_dataarraysize - data_array.shape[1]), buffer):\n",
    "            data_array_zero = np.zeros((2, max_dataarraysize))\n",
    "            data_array_zero[:, :data_array.shape[1]] = data_array\n",
    "            csvs.append(data_array_zero)\n",
    "            label.append(index)\n",
    "\n",
    "csvs = np.asarray(csvs)\n",
    "\n",
    "csvs = csvs\n",
    "csvs = csvs.astype('float32')\n",
    "\n",
    "label = np.asarray(label)\n",
    "label =  tf.keras.utils.to_categorical(label, 7)\n",
    "\n",
    "csvs_train, csvs_test, label_train, label_test = train_test_split(csvs, label, test_size=0.1, random_state=111)\n",
    "\n",
    "print(csvs_train.shape)\n",
    "print(csvs_train.shape)\n"
   ]
  },
  {
   "cell_type": "code",
   "execution_count": null,
   "metadata": {
    "id": "loAJjqGja9ve"
   },
   "outputs": [],
   "source": [
    "from tensorflow.python.client import device_lib\n",
    "device_lib.list_local_devices()"
   ]
  },
  {
   "cell_type": "code",
   "execution_count": null,
   "metadata": {
    "colab": {
     "base_uri": "https://localhost:8080/"
    },
    "id": "9pz5pwyDjHwL",
    "outputId": "d8e106ca-37c3-47f4-cef5-e902b758d3ec"
   },
   "outputs": [],
   "source": []
  },
  {
   "cell_type": "code",
   "execution_count": 7,
   "metadata": {
    "colab": {
     "base_uri": "https://localhost:8080/"
    },
    "id": "QpaRXIY75yat",
    "outputId": "8d781b45-7dde-4251-8b3d-27ccf2e3ba37"
   },
   "outputs": [
    {
     "name": "stdout",
     "output_type": "stream",
     "text": [
      "(2, 4423)\n"
     ]
    }
   ],
   "source": [
    "print(csvs_train.shape[1:])"
   ]
  },
  {
   "cell_type": "code",
   "execution_count": 4,
   "metadata": {
    "colab": {
     "base_uri": "https://localhost:8080/"
    },
    "id": "NMB6AQAYcE7J",
    "outputId": "c4d32058-12de-4c3e-e5c4-30c97b84a565"
   },
   "outputs": [
    {
     "name": "stdout",
     "output_type": "stream",
     "text": [
      "INFO:tensorflow:Using MirroredStrategy with devices ('/job:localhost/replica:0/task:0/device:GPU:0', '/job:localhost/replica:0/task:0/device:GPU:1', '/job:localhost/replica:0/task:0/device:GPU:2', '/job:localhost/replica:0/task:0/device:GPU:3')\n",
      "Model: \"sequential_1\"\n",
      "_________________________________________________________________\n",
      "Layer (type)                 Output Shape              Param #   \n",
      "=================================================================\n",
      "simple_rnn (SimpleRNN)       (None, 16)                71040     \n",
      "_________________________________________________________________\n",
      "dense (Dense)                (None, 7)                 119       \n",
      "=================================================================\n",
      "Total params: 71,159\n",
      "Trainable params: 71,159\n",
      "Non-trainable params: 0\n",
      "_________________________________________________________________\n",
      "Epoch 1/100\n",
      "INFO:tensorflow:batch_all_reduce: 5 all-reduces with algorithm = nccl, num_packs = 1\n",
      "INFO:tensorflow:Reduce to /job:localhost/replica:0/task:0/device:CPU:0 then broadcast to ('/job:localhost/replica:0/task:0/device:CPU:0',).\n",
      "INFO:tensorflow:Reduce to /job:localhost/replica:0/task:0/device:CPU:0 then broadcast to ('/job:localhost/replica:0/task:0/device:CPU:0',).\n",
      "INFO:tensorflow:Reduce to /job:localhost/replica:0/task:0/device:CPU:0 then broadcast to ('/job:localhost/replica:0/task:0/device:CPU:0',).\n",
      "INFO:tensorflow:Reduce to /job:localhost/replica:0/task:0/device:CPU:0 then broadcast to ('/job:localhost/replica:0/task:0/device:CPU:0',).\n",
      "INFO:tensorflow:batch_all_reduce: 5 all-reduces with algorithm = nccl, num_packs = 1\n",
      "INFO:tensorflow:Reduce to /job:localhost/replica:0/task:0/device:CPU:0 then broadcast to ('/job:localhost/replica:0/task:0/device:CPU:0',).\n",
      "INFO:tensorflow:Reduce to /job:localhost/replica:0/task:0/device:CPU:0 then broadcast to ('/job:localhost/replica:0/task:0/device:CPU:0',).\n",
      "INFO:tensorflow:Reduce to /job:localhost/replica:0/task:0/device:CPU:0 then broadcast to ('/job:localhost/replica:0/task:0/device:CPU:0',).\n",
      "INFO:tensorflow:Reduce to /job:localhost/replica:0/task:0/device:CPU:0 then broadcast to ('/job:localhost/replica:0/task:0/device:CPU:0',).\n",
      "39/42 [==========================>...] - ETA: 0s - accuracy: 0.2675 - loss: 0.3934INFO:tensorflow:Reduce to /job:localhost/replica:0/task:0/device:CPU:0 then broadcast to ('/job:localhost/replica:0/task:0/device:CPU:0',).\n",
      "INFO:tensorflow:Reduce to /job:localhost/replica:0/task:0/device:CPU:0 then broadcast to ('/job:localhost/replica:0/task:0/device:CPU:0',).\n",
      "42/42 [==============================] - 3s 68ms/step - accuracy: 0.2728 - loss: 0.3909 - val_accuracy: 0.3730 - val_loss: 0.3660\n",
      "Epoch 2/100\n",
      "42/42 [==============================] - 1s 21ms/step - accuracy: 0.3833 - loss: 0.3514 - val_accuracy: 0.4211 - val_loss: 0.3449\n",
      "Epoch 3/100\n",
      "42/42 [==============================] - 1s 20ms/step - accuracy: 0.4305 - loss: 0.3364 - val_accuracy: 0.4650 - val_loss: 0.3330\n",
      "Epoch 4/100\n",
      "42/42 [==============================] - 1s 19ms/step - accuracy: 0.4604 - loss: 0.3223 - val_accuracy: 0.4650 - val_loss: 0.3146\n",
      "Epoch 5/100\n",
      "42/42 [==============================] - 1s 19ms/step - accuracy: 0.4844 - loss: 0.3094 - val_accuracy: 0.4920 - val_loss: 0.3027\n",
      "Epoch 6/100\n",
      "42/42 [==============================] - 1s 20ms/step - accuracy: 0.5088 - loss: 0.2982 - val_accuracy: 0.5173 - val_loss: 0.2957\n",
      "Epoch 7/100\n",
      "42/42 [==============================] - 1s 19ms/step - accuracy: 0.5409 - loss: 0.2857 - val_accuracy: 0.5561 - val_loss: 0.2833\n",
      "Epoch 8/100\n",
      "42/42 [==============================] - 1s 20ms/step - accuracy: 0.5645 - loss: 0.2762 - val_accuracy: 0.5747 - val_loss: 0.2766\n",
      "Epoch 9/100\n",
      "42/42 [==============================] - 1s 20ms/step - accuracy: 0.5763 - loss: 0.2657 - val_accuracy: 0.5620 - val_loss: 0.2689\n",
      "Epoch 10/100\n",
      "42/42 [==============================] - 1s 20ms/step - accuracy: 0.5973 - loss: 0.2575 - val_accuracy: 0.5907 - val_loss: 0.2641\n",
      "Epoch 11/100\n",
      "42/42 [==============================] - 1s 20ms/step - accuracy: 0.6097 - loss: 0.2489 - val_accuracy: 0.6186 - val_loss: 0.2470\n",
      "Epoch 12/100\n",
      "42/42 [==============================] - 1s 20ms/step - accuracy: 0.6367 - loss: 0.2393 - val_accuracy: 0.6363 - val_loss: 0.2350\n",
      "Epoch 13/100\n",
      "42/42 [==============================] - 1s 20ms/step - accuracy: 0.6370 - loss: 0.2331 - val_accuracy: 0.6776 - val_loss: 0.2254\n",
      "Epoch 14/100\n",
      "42/42 [==============================] - 1s 22ms/step - accuracy: 0.6798 - loss: 0.2202 - val_accuracy: 0.6852 - val_loss: 0.2202\n",
      "Epoch 15/100\n",
      "42/42 [==============================] - 1s 19ms/step - accuracy: 0.6748 - loss: 0.2163 - val_accuracy: 0.6219 - val_loss: 0.2268\n",
      "Epoch 16/100\n",
      "42/42 [==============================] - 1s 19ms/step - accuracy: 0.6875 - loss: 0.2084 - val_accuracy: 0.6785 - val_loss: 0.2043\n",
      "Epoch 17/100\n",
      "42/42 [==============================] - 1s 20ms/step - accuracy: 0.6972 - loss: 0.2017 - val_accuracy: 0.7190 - val_loss: 0.1968\n",
      "Epoch 18/100\n",
      "42/42 [==============================] - 1s 19ms/step - accuracy: 0.7222 - loss: 0.1911 - val_accuracy: 0.7131 - val_loss: 0.1876\n",
      "Epoch 19/100\n",
      "42/42 [==============================] - 1s 20ms/step - accuracy: 0.7427 - loss: 0.1812 - val_accuracy: 0.7257 - val_loss: 0.1828\n",
      "Epoch 20/100\n",
      "42/42 [==============================] - 1s 22ms/step - accuracy: 0.7597 - loss: 0.1751 - val_accuracy: 0.7586 - val_loss: 0.1715\n",
      "Epoch 21/100\n",
      "42/42 [==============================] - 1s 20ms/step - accuracy: 0.7585 - loss: 0.1722 - val_accuracy: 0.7553 - val_loss: 0.1647\n",
      "Epoch 22/100\n",
      "42/42 [==============================] - 1s 20ms/step - accuracy: 0.7633 - loss: 0.1667 - val_accuracy: 0.7333 - val_loss: 0.1782\n",
      "Epoch 23/100\n",
      "42/42 [==============================] - 1s 20ms/step - accuracy: 0.7787 - loss: 0.1586 - val_accuracy: 0.8203 - val_loss: 0.1539\n",
      "Epoch 24/100\n",
      "42/42 [==============================] - 1s 19ms/step - accuracy: 0.7999 - loss: 0.1506 - val_accuracy: 0.7713 - val_loss: 0.1525\n",
      "Epoch 25/100\n",
      "42/42 [==============================] - 1s 19ms/step - accuracy: 0.8035 - loss: 0.1456 - val_accuracy: 0.7840 - val_loss: 0.1603\n",
      "Epoch 26/100\n",
      "42/42 [==============================] - 1s 20ms/step - accuracy: 0.8308 - loss: 0.1363 - val_accuracy: 0.8515 - val_loss: 0.1374\n",
      "Epoch 27/100\n",
      "42/42 [==============================] - 1s 20ms/step - accuracy: 0.8502 - loss: 0.1288 - val_accuracy: 0.8456 - val_loss: 0.1225\n",
      "Epoch 28/100\n",
      "42/42 [==============================] - 1s 22ms/step - accuracy: 0.8660 - loss: 0.1200 - val_accuracy: 0.8844 - val_loss: 0.1212\n",
      "Epoch 29/100\n",
      "42/42 [==============================] - 1s 20ms/step - accuracy: 0.8709 - loss: 0.1162 - val_accuracy: 0.8684 - val_loss: 0.1117\n",
      "Epoch 30/100\n",
      "42/42 [==============================] - 1s 19ms/step - accuracy: 0.8855 - loss: 0.1073 - val_accuracy: 0.8456 - val_loss: 0.1091\n",
      "Epoch 31/100\n",
      "42/42 [==============================] - 1s 19ms/step - accuracy: 0.8765 - loss: 0.1099 - val_accuracy: 0.8506 - val_loss: 0.1152\n",
      "Epoch 32/100\n",
      "42/42 [==============================] - 1s 21ms/step - accuracy: 0.8853 - loss: 0.1016 - val_accuracy: 0.9021 - val_loss: 0.0973\n",
      "Epoch 33/100\n",
      "42/42 [==============================] - 1s 20ms/step - accuracy: 0.9029 - loss: 0.0952 - val_accuracy: 0.9080 - val_loss: 0.0928\n",
      "Epoch 34/100\n",
      "42/42 [==============================] - 1s 19ms/step - accuracy: 0.8922 - loss: 0.0965 - val_accuracy: 0.9257 - val_loss: 0.0929\n",
      "Epoch 35/100\n",
      "42/42 [==============================] - 1s 20ms/step - accuracy: 0.8935 - loss: 0.0932 - val_accuracy: 0.9426 - val_loss: 0.0896\n",
      "Epoch 36/100\n",
      "42/42 [==============================] - 1s 21ms/step - accuracy: 0.9229 - loss: 0.0835 - val_accuracy: 0.9477 - val_loss: 0.0809\n",
      "Epoch 37/100\n",
      "42/42 [==============================] - 1s 19ms/step - accuracy: 0.9336 - loss: 0.0782 - val_accuracy: 0.9190 - val_loss: 0.0813\n",
      "Epoch 38/100\n",
      "42/42 [==============================] - 1s 19ms/step - accuracy: 0.9181 - loss: 0.0808 - val_accuracy: 0.9114 - val_loss: 0.0767\n",
      "Epoch 39/100\n",
      "42/42 [==============================] - 1s 19ms/step - accuracy: 0.9213 - loss: 0.0773 - val_accuracy: 0.9215 - val_loss: 0.0738\n",
      "Epoch 40/100\n",
      "42/42 [==============================] - 1s 20ms/step - accuracy: 0.9359 - loss: 0.0700 - val_accuracy: 0.9392 - val_loss: 0.0725\n"
     ]
    },
    {
     "name": "stdout",
     "output_type": "stream",
     "text": [
      "Epoch 41/100\n",
      "42/42 [==============================] - 1s 19ms/step - accuracy: 0.9507 - loss: 0.0655 - val_accuracy: 0.9224 - val_loss: 0.0742\n",
      "Epoch 42/100\n",
      "42/42 [==============================] - 1s 20ms/step - accuracy: 0.9467 - loss: 0.0636 - val_accuracy: 0.9300 - val_loss: 0.0761\n",
      "Epoch 43/100\n",
      "42/42 [==============================] - 1s 26ms/step - accuracy: 0.9246 - loss: 0.0714 - val_accuracy: 0.9342 - val_loss: 0.0745\n",
      "Epoch 44/100\n",
      "42/42 [==============================] - 1s 21ms/step - accuracy: 0.9409 - loss: 0.0643 - val_accuracy: 0.9646 - val_loss: 0.0575\n",
      "Epoch 45/100\n",
      "42/42 [==============================] - 1s 19ms/step - accuracy: 0.9567 - loss: 0.0567 - val_accuracy: 0.9257 - val_loss: 0.0607\n",
      "Epoch 46/100\n",
      "42/42 [==============================] - 1s 19ms/step - accuracy: 0.9603 - loss: 0.0531 - val_accuracy: 0.9747 - val_loss: 0.0499\n",
      "Epoch 47/100\n",
      "42/42 [==============================] - 1s 20ms/step - accuracy: 0.9646 - loss: 0.0509 - val_accuracy: 0.9662 - val_loss: 0.0479\n",
      "Epoch 48/100\n",
      "42/42 [==============================] - 1s 20ms/step - accuracy: 0.9707 - loss: 0.0472 - val_accuracy: 0.9705 - val_loss: 0.0467\n",
      "Epoch 49/100\n",
      "42/42 [==============================] - 1s 19ms/step - accuracy: 0.9669 - loss: 0.0475 - val_accuracy: 0.9646 - val_loss: 0.0463\n",
      "Epoch 50/100\n",
      "42/42 [==============================] - 1s 20ms/step - accuracy: 0.9661 - loss: 0.0467 - val_accuracy: 0.9705 - val_loss: 0.0449\n",
      "Epoch 51/100\n",
      "42/42 [==============================] - 1s 21ms/step - accuracy: 0.9678 - loss: 0.0453 - val_accuracy: 0.9603 - val_loss: 0.0472\n",
      "Epoch 52/100\n",
      "42/42 [==============================] - 1s 19ms/step - accuracy: 0.9741 - loss: 0.0406 - val_accuracy: 0.9629 - val_loss: 0.0534\n",
      "Epoch 53/100\n",
      "42/42 [==============================] - 1s 20ms/step - accuracy: 0.9784 - loss: 0.0387 - val_accuracy: 0.9797 - val_loss: 0.0401\n",
      "Epoch 54/100\n",
      "42/42 [==============================] - 1s 19ms/step - accuracy: 0.9626 - loss: 0.0436 - val_accuracy: 0.9384 - val_loss: 0.0563\n",
      "Epoch 55/100\n",
      "42/42 [==============================] - 1s 19ms/step - accuracy: 0.9587 - loss: 0.0455 - val_accuracy: 0.9561 - val_loss: 0.0395\n",
      "Epoch 56/100\n",
      "42/42 [==============================] - 1s 19ms/step - accuracy: 0.9732 - loss: 0.0364 - val_accuracy: 0.9730 - val_loss: 0.0351\n",
      "Epoch 57/100\n",
      "42/42 [==============================] - 1s 20ms/step - accuracy: 0.9754 - loss: 0.0338 - val_accuracy: 0.9713 - val_loss: 0.0396\n",
      "Epoch 58/100\n",
      "42/42 [==============================] - 1s 20ms/step - accuracy: 0.9761 - loss: 0.0334 - val_accuracy: 0.9823 - val_loss: 0.0350\n",
      "Epoch 59/100\n",
      "42/42 [==============================] - 1s 22ms/step - accuracy: 0.9795 - loss: 0.0302 - val_accuracy: 0.9629 - val_loss: 0.0345\n",
      "Epoch 60/100\n",
      "42/42 [==============================] - 1s 20ms/step - accuracy: 0.9795 - loss: 0.0314 - val_accuracy: 0.9637 - val_loss: 0.0321\n",
      "Epoch 61/100\n",
      "42/42 [==============================] - 1s 19ms/step - accuracy: 0.9801 - loss: 0.0291 - val_accuracy: 0.9814 - val_loss: 0.0277\n",
      "Epoch 62/100\n",
      "42/42 [==============================] - 1s 19ms/step - accuracy: 0.9808 - loss: 0.0296 - val_accuracy: 0.9823 - val_loss: 0.0309\n",
      "Epoch 63/100\n",
      "42/42 [==============================] - 1s 20ms/step - accuracy: 0.9795 - loss: 0.0290 - val_accuracy: 0.9662 - val_loss: 0.0298\n",
      "Epoch 64/100\n",
      "42/42 [==============================] - 1s 19ms/step - accuracy: 0.9662 - loss: 0.0359 - val_accuracy: 0.9722 - val_loss: 0.0332\n",
      "Epoch 65/100\n",
      "42/42 [==============================] - 1s 19ms/step - accuracy: 0.9725 - loss: 0.0314 - val_accuracy: 0.9603 - val_loss: 0.0346\n",
      "Epoch 66/100\n",
      "42/42 [==============================] - 1s 20ms/step - accuracy: 0.9812 - loss: 0.0259 - val_accuracy: 0.9857 - val_loss: 0.0275\n",
      "Epoch 67/100\n",
      "42/42 [==============================] - 1s 20ms/step - accuracy: 0.9816 - loss: 0.0251 - val_accuracy: 0.9857 - val_loss: 0.0246\n",
      "Epoch 68/100\n",
      "42/42 [==============================] - 1s 19ms/step - accuracy: 0.9785 - loss: 0.0262 - val_accuracy: 0.9806 - val_loss: 0.0237\n",
      "Epoch 69/100\n",
      "42/42 [==============================] - 1s 20ms/step - accuracy: 0.9670 - loss: 0.0310 - val_accuracy: 0.9696 - val_loss: 0.0295\n",
      "Epoch 70/100\n",
      "42/42 [==============================] - 1s 21ms/step - accuracy: 0.9812 - loss: 0.0243 - val_accuracy: 0.9755 - val_loss: 0.0232\n",
      "Epoch 71/100\n",
      "42/42 [==============================] - 1s 20ms/step - accuracy: 0.9837 - loss: 0.0227 - val_accuracy: 0.9797 - val_loss: 0.0222\n",
      "Epoch 72/100\n",
      "42/42 [==============================] - 1s 19ms/step - accuracy: 0.9827 - loss: 0.0228 - val_accuracy: 0.9857 - val_loss: 0.0220\n",
      "Epoch 73/100\n",
      "42/42 [==============================] - 1s 20ms/step - accuracy: 0.9857 - loss: 0.0199 - val_accuracy: 0.9679 - val_loss: 0.0251\n",
      "Epoch 74/100\n",
      "42/42 [==============================] - 1s 19ms/step - accuracy: 0.9829 - loss: 0.0210 - val_accuracy: 0.9857 - val_loss: 0.0204\n",
      "Epoch 75/100\n",
      "42/42 [==============================] - 1s 20ms/step - accuracy: 0.9797 - loss: 0.0233 - val_accuracy: 0.9679 - val_loss: 0.0341\n",
      "Epoch 76/100\n",
      "42/42 [==============================] - 1s 19ms/step - accuracy: 0.9853 - loss: 0.0216 - val_accuracy: 0.9688 - val_loss: 0.0221\n",
      "Epoch 77/100\n",
      "42/42 [==============================] - 1s 20ms/step - accuracy: 0.9840 - loss: 0.0196 - val_accuracy: 0.9958 - val_loss: 0.0187\n",
      "Epoch 78/100\n",
      "42/42 [==============================] - 1s 20ms/step - accuracy: 0.9830 - loss: 0.0202 - val_accuracy: 0.9781 - val_loss: 0.0238\n",
      "Epoch 79/100\n",
      "42/42 [==============================] - 1s 21ms/step - accuracy: 0.9743 - loss: 0.0269 - val_accuracy: 0.9679 - val_loss: 0.0308\n",
      "Epoch 80/100\n",
      "42/42 [==============================] - 1s 20ms/step - accuracy: 0.9650 - loss: 0.0411 - val_accuracy: 0.8945 - val_loss: 0.0859\n",
      "Epoch 81/100\n",
      "42/42 [==============================] - 1s 20ms/step - accuracy: 0.9661 - loss: 0.0369 - val_accuracy: 0.9755 - val_loss: 0.0289\n",
      "Epoch 82/100\n",
      "42/42 [==============================] - 1s 20ms/step - accuracy: 0.9849 - loss: 0.0233 - val_accuracy: 0.9823 - val_loss: 0.0303\n",
      "Epoch 83/100\n",
      "42/42 [==============================] - 1s 20ms/step - accuracy: 0.9832 - loss: 0.0234 - val_accuracy: 0.9646 - val_loss: 0.0284\n",
      "Epoch 84/100\n",
      "42/42 [==============================] - 1s 19ms/step - accuracy: 0.9848 - loss: 0.0239 - val_accuracy: 0.9772 - val_loss: 0.0311\n",
      "Epoch 85/100\n",
      "42/42 [==============================] - 1s 19ms/step - accuracy: 0.9858 - loss: 0.0224 - val_accuracy: 0.9713 - val_loss: 0.0322\n",
      "Epoch 86/100\n",
      "42/42 [==============================] - 1s 19ms/step - accuracy: 0.9834 - loss: 0.0233 - val_accuracy: 0.9873 - val_loss: 0.0269\n",
      "Epoch 87/100\n",
      "42/42 [==============================] - 1s 19ms/step - accuracy: 0.9858 - loss: 0.0222 - val_accuracy: 0.9730 - val_loss: 0.0277\n",
      "Epoch 88/100\n",
      "42/42 [==============================] - 1s 20ms/step - accuracy: 0.9470 - loss: 0.0509 - val_accuracy: 0.7646 - val_loss: 0.1676\n",
      "Epoch 89/100\n",
      "42/42 [==============================] - 1s 20ms/step - accuracy: 0.8916 - loss: 0.0922 - val_accuracy: 0.9705 - val_loss: 0.0365\n",
      "Epoch 90/100\n",
      "42/42 [==============================] - 1s 20ms/step - accuracy: 0.9814 - loss: 0.0247 - val_accuracy: 0.9857 - val_loss: 0.0264\n",
      "Epoch 91/100\n",
      "42/42 [==============================] - 1s 21ms/step - accuracy: 0.9869 - loss: 0.0207 - val_accuracy: 0.9873 - val_loss: 0.0276\n",
      "Epoch 92/100\n",
      "42/42 [==============================] - 1s 19ms/step - accuracy: 0.9866 - loss: 0.0210 - val_accuracy: 0.9873 - val_loss: 0.0278\n",
      "Epoch 93/100\n",
      "42/42 [==============================] - 1s 19ms/step - accuracy: 0.9872 - loss: 0.0202 - val_accuracy: 0.9814 - val_loss: 0.0243\n",
      "Epoch 94/100\n",
      "42/42 [==============================] - 1s 20ms/step - accuracy: 0.9896 - loss: 0.0191 - val_accuracy: 0.9764 - val_loss: 0.0318\n",
      "Epoch 95/100\n",
      "42/42 [==============================] - 1s 20ms/step - accuracy: 0.9877 - loss: 0.0200 - val_accuracy: 0.9797 - val_loss: 0.0248\n",
      "Epoch 96/100\n",
      "42/42 [==============================] - 1s 19ms/step - accuracy: 0.9878 - loss: 0.0192 - val_accuracy: 0.9873 - val_loss: 0.0260\n",
      "Epoch 97/100\n",
      "42/42 [==============================] - 1s 20ms/step - accuracy: 0.9840 - loss: 0.0210 - val_accuracy: 0.9730 - val_loss: 0.0299\n",
      "Epoch 98/100\n",
      "42/42 [==============================] - 1s 19ms/step - accuracy: 0.9871 - loss: 0.0193 - val_accuracy: 0.9916 - val_loss: 0.0250\n",
      "Epoch 99/100\n",
      "42/42 [==============================] - 1s 20ms/step - accuracy: 0.9905 - loss: 0.0186 - val_accuracy: 0.9814 - val_loss: 0.0255\n",
      "Epoch 100/100\n",
      "42/42 [==============================] - 1s 27ms/step - accuracy: 0.9874 - loss: 0.0189 - val_accuracy: 0.9722 - val_loss: 0.0260\n"
     ]
    }
   ],
   "source": [
    "# RNNを構築\n",
    "hid_dim = 16\n",
    "epochs = 100\n",
    "\n",
    "#複数のGPUを用いる\n",
    "\n",
    "with tf.distribute.MirroredStrategy().scope():\n",
    "    model = Sequential()\n",
    "    model.add(SimpleRNN(hid_dim, input_shape=csvs_train.shape[1:], activation = 'relu')) # input_shape=(系列長T, x_tの次元), output_shape=(units(=hid_dim),)\n",
    "    model.add(Dense(label_train.shape[1], activation='softmax'))\n",
    "    model.summary()\n",
    "\n",
    "# コンパイル\n",
    "model.compile(optimizer='adam',loss='binary_crossentropy',metrics=['accuracy'])\n",
    "\n",
    "# 実行。出力はなしで設定(verbose=0)。\n",
    "history = model.fit(csvs_train, label_train, batch_size=256, epochs=epochs, validation_data=(csvs_test, label_test))\n"
   ]
  },
  {
   "cell_type": "code",
   "execution_count": 6,
   "metadata": {
    "colab": {
     "base_uri": "https://localhost:8080/",
     "height": 236
    },
    "id": "B7vSS07_xTg9",
    "outputId": "77c0c33f-78ba-495a-8d7c-b92374c41e5b"
   },
   "outputs": [
    {
     "name": "stdout",
     "output_type": "stream",
     "text": [
      "<tensorflow.python.keras.callbacks.History object at 0x7fc8c2fc2710>\n"
     ]
    },
    {
     "data": {
      "image/png": "[encoded data removed]",
      "text/plain": [
       "<Figure size 432x288 with 1 Axes>"
      ]
     },
     "metadata": {
      "needs_background": "light"
     },
     "output_type": "display_data"
    }
   ],
   "source": [
    "print(history)\n",
    "plt.title('SimpleRNN : hid_dim = ' + str(hid_dim))\n",
    "plt.plot(range(1, epochs+1), history.history['accuracy'], label=\"training\")\n",
    "plt.plot(range(1, epochs+1), history.history['val_accuracy'], label=\"validation\")\n",
    "plt.xlabel('Epochs')\n",
    "plt.ylabel('Accuracy')\n",
    "plt.legend()\n",
    "plt.show()\n"
   ]
  },
  {
   "cell_type": "code",
   "execution_count": null,
   "metadata": {},
   "outputs": [],
   "source": []
  }
 ],
 "metadata": {
  "accelerator": "GPU",
  "colab": {
   "collapsed_sections": [],
   "name": "FoodRecognition_fromHaptics_1DCNN.ipynb ",
   "provenance": []
  },
  "kernelspec": {
   "display_name": "Python 3",
   "language": "python",
   "name": "python3"
  },
  "language_info": {
   "codemirror_mode": {
    "name": "ipython",
    "version": 3
   },
   "file_extension": ".py",
   "mimetype": "text/x-python",
   "name": "python",
   "nbconvert_exporter": "python",
   "pygments_lexer": "ipython3",
   "version": "3.6.12"
  }
 },
 "nbformat": 4,
 "nbformat_minor": 1
}
